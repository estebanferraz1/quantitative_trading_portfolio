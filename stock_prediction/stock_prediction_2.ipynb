{
  "nbformat": 4,
  "nbformat_minor": 0,
  "metadata": {
    "colab": {
      "provenance": []
    },
    "kernelspec": {
      "name": "python3",
      "display_name": "Python 3"
    },
    "language_info": {
      "name": "python"
    }
  },
  "cells": [
    {
      "cell_type": "code",
      "source": [
        "pip install -r requirements.txt"
      ],
      "metadata": {
        "id": "80P7Tauai7-z"
      },
      "execution_count": null,
      "outputs": []
    },
    {
      "cell_type": "code",
      "execution_count": null,
      "metadata": {
        "id": "8hxuhnuwf-Fk"
      },
      "outputs": [],
      "source": [
        "import requests\n",
        "import json\n",
        "import numpy as np\n",
        "import pandas as pd\n",
        "import yfinance as yf\n",
        "from sklearn.model_selection import train_test_split\n",
        "from sklearn.preprocessing import MinMaxScaler\n",
        "from keras.models import Sequential\n",
        "from keras.layers import Dense, SimpleRNN\n",
        "\n",
        "# Load the Tesla stock data from Yahoo finance\n",
        "df= yf.download('TSLA', period= '60d', interval= '5m')\n",
        "\n",
        "# Preprocess the data\n",
        "scaler = MinMaxScaler(feature_range=(0, 1))\n",
        "df['Close'] = scaler.fit_transform(df['Close'].values.reshape(-1, 1))\n",
        "\n",
        "# Prepare the input features and target variable\n",
        "data = df['Close'].values\n",
        "window_size = 10  # Number of previous days' prices to consider\n",
        "\n",
        "X = []\n",
        "y = []\n",
        "for i in range(len(data) - window_size):\n",
        "    X.append(data[i:i + window_size])\n",
        "    y.append(data[i + window_size])\n",
        "\n",
        "X = np.array(X)\n",
        "y = np.array(y)\n",
        "\n",
        "# Split the data into training and testing sets\n",
        "X_train, X_test, y_train, y_test = train_test_split(X, y, test_size=0.2, shuffle=False)\n",
        "\n",
        "# Reshape the input data to fit the RNN input shape\n",
        "X_train = np.reshape(X_train, (X_train.shape[0], X_train.shape[1], 1))\n",
        "X_test = np.reshape(X_test, (X_test.shape[0], X_test.shape[1], 1))\n",
        "\n",
        "# Build the RNN model\n",
        "model = Sequential()\n",
        "model.add(SimpleRNN(50, activation='relu', input_shape=(window_size, 1)))\n",
        "model.add(Dense(1))\n",
        "model.compile(optimizer='adam', loss='mean_squared_error')\n",
        "\n",
        "# Train the model\n",
        "model.fit(X_train, y_train, epochs=20, batch_size=16)\n",
        "\n",
        "# Evaluate the model\n",
        "train_loss = model.evaluate(X_train, y_train)\n",
        "test_loss = model.evaluate(X_test, y_test)\n",
        "print(f'Training Loss: {train_loss:.4f}')\n",
        "print(f'Testing Loss: {test_loss:.4f}')\n",
        "\n",
        "# Make predictions\n",
        "predictions = model.predict(X_test)\n",
        "\n",
        "# Inverse transform the predictions and actual values to the original scale\n",
        "predictions = scaler.inverse_transform(predictions)\n",
        "y_test = scaler.inverse_transform(y_test.reshape(-1, 1))\n",
        "\n",
        "# Print the predicted and actual values\n",
        "for i in range(len(predictions)):\n",
        "    print(f'Predicted: {predictions[i][0]:.2f}, Actual: {y_test[i][0]:.2f}')\n"
      ]
    }
  ]
}