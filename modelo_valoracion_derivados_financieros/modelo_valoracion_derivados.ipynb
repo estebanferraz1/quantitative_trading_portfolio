{
  "nbformat": 4,
  "nbformat_minor": 0,
  "metadata": {
    "colab": {
      "provenance": []
    },
    "kernelspec": {
      "name": "python3",
      "display_name": "Python 3"
    },
    "language_info": {
      "name": "python"
    }
  },
  "cells": [
    {
      "cell_type": "code",
      "execution_count": 3,
      "metadata": {
        "colab": {
          "base_uri": "https://localhost:8080/"
        },
        "id": "41OXGB-iWmrh",
        "outputId": "203ee86e-d67e-420d-fc07-001b267b8b07"
      },
      "outputs": [
        {
          "output_type": "stream",
          "name": "stdout",
          "text": [
            "Precio de la opcion de compra (Call):  8.021352235143176\n",
            "Precio de la opcion de venta (Put):  7.9004418077181455\n"
          ]
        }
      ],
      "source": [
        "import numpy as np\n",
        "from scipy.stats import norm\n",
        "\n",
        "def black_scholes(S,K,r,T,sigma):\n",
        "    \"\"\"\n",
        "     Calcula el precio teórico de una opción europea utilizando el modelo de Black-Scholes.\n",
        "\n",
        "    Parámetros:\n",
        "    S : float : Precio subyacente\n",
        "    K : float : Precio de ejercicio\n",
        "    r : float : Tasa de interés libre de riesgo\n",
        "    T : float : Tiempo hasta el vencimiento en años\n",
        "    sigma : float : Volatilidad del subyacente\n",
        "\n",
        "    Retorna:\n",
        "    float : Precio teórico de la opción\n",
        "    \"\"\"\n",
        "    d1= (np.log(S/K)+(r+0.5*sigma**2)*T)/(sigma*np.sqrt(T))\n",
        "    d2= d1-sigma*np.sqrt(T)\n",
        "\n",
        "    call_price= S*norm.cdf(d1)-K*np.exp(-r*T)*norm.cdf(d2)\n",
        "    put_price= K*np.exp(-r*T)*norm.cdf(-d2)-S*norm.cdf(-d1)\n",
        "\n",
        "    return call_price, put_price\n",
        "\n",
        "S= 100  # Precio subyacente\n",
        "K= 105  # Precio de ejercicio\n",
        "r= 0.05  # Tasa de interés libre de riesgo\n",
        "T= 1.0 # Tiempo hasta el vencimiento en años\n",
        "sigma= 0.2  # Volatilidad del subyacente\n",
        "\n",
        "call_price, put_price= black_scholes(S,K,r,T,sigma)\n",
        "\n",
        "print(\"Precio de la opcion de compra (Call): \", call_price)\n",
        "print(\"Precio de la opcion de venta (Put): \", put_price)\n",
        "\n",
        "\n",
        "\n"
      ]
    }
  ]
}