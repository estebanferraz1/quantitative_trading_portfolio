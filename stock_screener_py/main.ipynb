{
  "nbformat": 4,
  "nbformat_minor": 0,
  "metadata": {
    "colab": {
      "provenance": []
    },
    "kernelspec": {
      "name": "python3",
      "display_name": "Python 3"
    },
    "language_info": {
      "name": "python"
    }
  },
  "cells": [
    {
      "cell_type": "code",
      "execution_count": null,
      "metadata": {
        "id": "IVmU6AqciAaR"
      },
      "outputs": [],
      "source": [
        "from nsepy import get_history\n",
        "from datetime import date\n",
        "import pandas as pd\n",
        "\n",
        "stocks = ['AAOI', 'ACDC', 'ACIC', 'ACMR', 'ACXP', 'ALPN', 'ALXO', 'AMRK', 'AMXC', 'AMTX', 'ARHS', 'ASLE', 'AVGR', 'AXLA', 'BFRG', 'BIVI', 'BJDX', 'BLDE', 'BTAI', 'CDIO', 'CLRB', 'COCO', 'CRGX', 'CRSR', 'CSWC', 'DAKT', 'DCTH', 'DH', 'DRCT', 'DSGN', 'EMLD', 'EVER', 'EXFY', 'FLWS', 'FWRG', 'GCT', 'GRPN', 'HOWL', 'HSDT', 'HTLD', 'IDEX', 'INOD', 'INZY', 'KNSA', 'KNTE', 'LFMD', 'LIFW', 'LUNR', 'LVOX', 'LYRA', 'MAMA', 'MDAI', 'METC', 'MGTX', 'MNMD', 'MNTS', 'MOND', 'NDLS', 'NMRA', 'NN', 'NRDS', 'PDSB', 'PHAT', 'PIXY', 'PLL', 'PRME', 'PUBM', 'RILY', 'RMNI', 'RUM', 'RVPH', 'RYZB', 'SASI', 'SATS', 'SAVA', 'SBGI', 'SEAT', 'SGHT', 'SHOT', 'SIGA', 'SKWD', 'SLNO', 'SPRY', 'SWBI', 'SWIM', 'TASK', 'TAST', 'TH', 'THRX', 'TPST', 'TRIN', 'TTOO', 'ULCC', 'VERI', 'VICR', 'VTGN', 'VYNE', 'WAVD', 'WISH', 'ZYXI', 'AESI', 'AGTI', 'AHT', 'AMPX', 'AMPY', 'ARR', 'ATMU', 'BKE', 'BRDG', 'DTC', 'ENFN', 'FF', 'FNA', 'FPI', 'GNK', 'GNRD', 'HLLY', 'HRTG', 'HTH', 'IVR', 'KGS', 'LL', 'LMND', 'LXU', 'MBI', 'NAPA', 'NINE', 'OUST', 'SBOW', 'SCU', 'SJT', 'SKLZ', 'SRG', 'SWI', 'TGLS', 'WEAV', 'WOW', 'WSR']\n",
        "start_date=date(2021,1,1)\n",
        "end_date=date.today()\n",
        "\n",
        "def Importdata():\n",
        "    for stock in stocks:\n",
        "        rawdata = get_history(symbol=stock,start=start_date,end=end_date)\n",
        "        file_name = 'Data/{}.cvs'.format(stock)\n",
        "        df = pd.DataFrame(rawdata)\n",
        "        df.to_csv(file_name,encoding='utf-8')\n",
        "        print(stock)\n",
        "\n",
        "def Loaddata():\n",
        "    for stock in stocks:\n",
        "        try:\n",
        "            rawdata =pd.read_csv('Data/{}.csv'.format(stock))\n",
        "            print(stock)\n",
        "            print(rawdata)\n",
        "        except:\n",
        "            pass\n",
        "\n",
        "importdata()\n",
        "\n"
      ]
    }
  ]
}